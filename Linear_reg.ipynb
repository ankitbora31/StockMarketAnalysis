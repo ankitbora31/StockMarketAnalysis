{
 "cells": [
  {
   "cell_type": "code",
   "execution_count": 31,
   "id": "d7ad3e87",
   "metadata": {},
   "outputs": [
    {
     "name": "stderr",
     "output_type": "stream",
     "text": [
      "[nltk_data] Downloading package punkt to\n",
      "[nltk_data]     C:\\Users\\ankit\\AppData\\Roaming\\nltk_data...\n",
      "[nltk_data]   Package punkt is already up-to-date!\n"
     ]
    }
   ],
   "source": [
    "from bs4 import BeautifulSoup\n",
    "from urllib.request import urlopen, Request\n",
    "import os\n",
    "import pandas as pd\n",
    "from pandas.plotting import lag_plot\n",
    "import numpy as np\n",
    "import matplotlib.pyplot as plt2\n",
    "%matplotlib inline\n",
    "from nltk.sentiment.vader import SentimentIntensityAnalyzer\n",
    "from datetime import datetime\n",
    "import yfinance as yf\n",
    "from flask import Flask, render_template, request, flash, redirect, url_for\n",
    "from alpha_vantage.timeseries import TimeSeries\n",
    "from statsmodels.tsa.arima_model import ARIMA\n",
    "from sklearn.metrics import mean_squared_error\n",
    "plt.style.use('ggplot')\n",
    "import math, random\n",
    "import preprocessor as p\n",
    "import re\n",
    "from sklearn.linear_model import LinearRegression\n",
    "from textblob import TextBlob\n",
    "import constants as ct\n",
    "import nltk\n",
    "nltk.download('punkt')\n",
    "\n",
    "import warnings"
   ]
  },
  {
   "cell_type": "code",
   "execution_count": 32,
   "id": "a41ca5a4",
   "metadata": {},
   "outputs": [],
   "source": [
    "def get_data(quote):\n",
    "    end = datetime.now()\n",
    "    start = datetime(end.year-2,end.month,end.day)\n",
    "    data = yf.download(quote,start=start,end=end)\n",
    "    df = pd.DataFrame(data = data)\n",
    "    df.to_csv(''+quote+'.csv')\n",
    "    if df.empty:\n",
    "        data = data.head(503).iloc[::-1]\n",
    "        data = data.reset_index()\n",
    "        \n",
    "        df = pd.DataFrame()\n",
    "        df=pd.DataFrame()\n",
    "        df['Date']=data['date']\n",
    "        df['Open']=data['1. open']\n",
    "        df['High']=data['2. high']\n",
    "        df['Low']=data['3. low']\n",
    "        df['Close']=data['4. close']\n",
    "        df['Adj Close']=data['5. adjusted close']\n",
    "        df['Volume']=data['6. volume']\n",
    "        df.to_csv(''+quote+'.csv',index=False)\n",
    "    return df"
   ]
  },
  {
   "cell_type": "code",
   "execution_count": 33,
   "id": "56c604d8",
   "metadata": {},
   "outputs": [
    {
     "name": "stdout",
     "output_type": "stream",
     "text": [
      "[*********************100%***********************]  1 of 1 completed\n"
     ]
    }
   ],
   "source": [
    "quote = 'ZOMATO.NS'\n",
    "df = get_data(quote)\n",
    "\n",
    "df['Date'] = df.index\n",
    "df.reset_index(drop=True, inplace=True)"
   ]
  },
  {
   "cell_type": "code",
   "execution_count": 34,
   "id": "8c222af3",
   "metadata": {},
   "outputs": [],
   "source": [
    "def linear_reg(df):\n",
    "    #No of days to be forcasted in future\n",
    "    forecast_out = int(7)\n",
    "    #Price after n days\n",
    "    df['Close after n days'] = df['Close'].shift(-forecast_out)\n",
    "    #New df with only relevant data\n",
    "    df_new=df[['Close','Close after n days']]\n",
    "    \n",
    "    #Structure data for train, test & forecast\n",
    "    #lables of known data, discard last 35 rows\n",
    "    y =np.array(df_new.iloc[:-forecast_out,-1])\n",
    "    y=np.reshape(y, (-1,1))\n",
    "    #all cols of known data except lables, discard last 35 rows\n",
    "    X=np.array(df_new.iloc[:-forecast_out,0:-1])\n",
    "    #Unknown, X to be forecasted\n",
    "    X_to_be_forecasted=np.array(df_new.iloc[-forecast_out:,0:-1])\n",
    "        \n",
    "    #Traning, testing to plot graphs, check accuracy\n",
    "    X_train=X[0:int(0.8*len(df)),:]\n",
    "    X_test=X[int(0.8*len(df)):,:]\n",
    "    y_train=y[0:int(0.8*len(df)),:]\n",
    "    y_test=y[int(0.8*len(df)):,:]\n",
    "        \n",
    "        # Feature Scaling===Normalization\n",
    "    from sklearn.preprocessing import StandardScaler\n",
    "    sc = StandardScaler()\n",
    "    X_train = sc.fit_transform(X_train)\n",
    "    X_test = sc.transform(X_test)\n",
    "        \n",
    "    X_to_be_forecasted=sc.transform(X_to_be_forecasted)\n",
    "        \n",
    "        #Training\n",
    "    clf = LinearRegression(n_jobs=-1)\n",
    "    clf.fit(X_train, y_train)\n",
    "        \n",
    "        #Testing\n",
    "    y_test_pred=clf.predict(X_test)\n",
    "    y_test_pred=y_test_pred*(1.04)\n",
    "    import matplotlib.pyplot as plt2\n",
    "    fig = plt2.figure(figsize=(7.2,4.8),dpi=65)\n",
    "    plt2.plot(y_test,label='Actual Price' )\n",
    "    plt2.plot(y_test_pred,label='Predicted Price')\n",
    "        \n",
    "    plt2.legend(loc=4)\n",
    "    plt2.show()\n",
    "        \n",
    "    error_lr = math.sqrt(mean_squared_error(y_test, y_test_pred))\n",
    "        \n",
    "        \n",
    "        #Forecasting\n",
    "    forecast_set = clf.predict(X_to_be_forecasted)\n",
    "    forecast_set=forecast_set*(1.04)\n",
    "    mean=forecast_set.mean()\n",
    "    lr_pred=forecast_set[0,0]\n",
    "    print()\n",
    "    print(\"##############################################################################\")\n",
    "    print(\"Tomorrow's \",quote,\" Closing Price Prediction by Linear Regression: \",lr_pred)\n",
    "    print(\"Linear Regression RMSE:\",error_lr)\n",
    "    print(\"##############################################################################\")\n",
    "    return df, lr_pred, forecast_set, mean, error_lr"
   ]
  },
  {
   "cell_type": "code",
   "execution_count": 35,
   "id": "62619af5",
   "metadata": {},
   "outputs": [
    {
     "data": {
      "image/png": "[encoded data removed]",
      "text/plain": [
       "<Figure size 468x312 with 1 Axes>"
      ]
     },
     "metadata": {},
     "output_type": "display_data"
    },
    {
     "name": "stdout",
     "output_type": "stream",
     "text": [
      "\n",
      "##############################################################################\n",
      "Tomorrow's  ZOMATO.NS  Closing Price Prediction by Linear Regression:  139.9560357460993\n",
      "Linear Regression RMSE: 0.3358576405230451\n",
      "##############################################################################\n"
     ]
    },
    {
     "data": {
      "text/plain": [
       "(          Open        High         Low       Close   Adj Close     Volume  \\\n",
       " 0   116.000000  138.899994  115.000000  126.000000  126.000000  694895290   \n",
       " 1   126.349998  143.750000  125.300003  140.649994  140.649994  249723854   \n",
       " 2   141.699997  147.800003  127.750000  132.899994  132.899994  240341900   \n",
       " 3   131.000000  135.000000  123.550003  131.199997  131.199997  159793731   \n",
       " 4   134.949997  144.000000  132.199997  141.550003  141.550003  117973089   \n",
       " 5   142.600006  142.699997  131.000000  133.500000  133.500000   88312522   \n",
       " 6   135.750000  140.750000  135.149994  139.699997  139.699997   66909732   \n",
       " 7   137.000000  140.800003  137.000000  139.399994  139.399994   46610001   \n",
       " 8   139.800003  141.000000  135.250000  138.399994  138.399994   41134419   \n",
       " 9   138.750000  138.899994  132.000000  134.949997  134.949997   38437134   \n",
       " 10  135.500000  136.199997  130.100006  131.350006  131.350006   31975356   \n",
       " 11  132.399994  133.550003  127.250000  130.600006  130.600006   41358299   \n",
       " 12  131.000000  131.449997  122.099998  125.199997  125.199997   43164004   \n",
       " 13  123.000000  138.750000  123.000000  135.649994  135.649994  111702781   \n",
       " 14  135.649994  137.399994  132.050003  135.449997  135.449997   51256670   \n",
       " 15  133.850006  139.750000  132.100006  137.350006  137.350006   33674300   \n",
       " 16  136.399994  136.899994  132.250000  134.949997  134.949997   20305361   \n",
       " 17  132.800003  134.350006  130.600006  132.500000  132.500000   15815187   \n",
       " 18  134.500000  136.800003  133.300003  134.949997  134.949997   22566920   \n",
       " 19  134.949997  141.449997  133.000000  139.300003  139.300003   53789580   \n",
       " 20  137.800003  137.800003  124.750000  127.250000  127.250000   68470861   \n",
       " 21  127.250000  127.949997  120.500000  125.000000  125.000000   56713556   \n",
       " 22  126.000000  128.500000  123.099998  124.250000  124.250000   51078811   \n",
       " 23  125.250000  127.150002  124.349998  125.849998  125.849998   20645403   \n",
       " 24  126.599998  129.500000  124.099998  124.699997  124.699997   22227595   \n",
       " 25  127.849998  135.449997  127.550003  133.550003  133.550003   45239080   \n",
       " 26  134.000000  135.199997  131.350006  134.550003  134.550003   24640924   \n",
       " 27  134.550003  135.100006  130.699997  132.600006  132.600006   16162269   \n",
       " 28  132.000000  138.500000  131.500000  137.600006  137.600006   27882466   \n",
       " 29  135.949997  151.399994  135.600006  149.750000  149.750000  113381518   \n",
       " 30  149.250000  149.350006  143.250000  144.050003  144.050003   34811620   \n",
       " 31  144.899994  146.850006  138.550003  140.050003  140.050003   30421931   \n",
       " 32  141.000000  143.600006  139.050003  141.250000  141.250000   28133284   \n",
       " 33  141.399994  142.899994  140.000000  141.600006  141.600006   18970691   \n",
       " 34  143.250000  144.250000  142.000000  143.149994  143.149994   17426798   \n",
       " 35  145.149994  152.750000  136.199997  144.100006  144.100006  112358935   \n",
       " 36  142.949997  145.000000  140.750000  142.649994  142.649994   38892545   \n",
       " 37  143.000000  144.000000  141.500000  142.050003  142.050003   17634206   \n",
       " 38  142.550003  146.899994  137.250000  139.800003  139.800003   17550762   \n",
       " \n",
       "          Date  Close after n days  \n",
       " 0  2021-07-23          139.399994  \n",
       " 1  2021-07-26          138.399994  \n",
       " 2  2021-07-27          134.949997  \n",
       " 3  2021-07-28          131.350006  \n",
       " 4  2021-07-29          130.600006  \n",
       " 5  2021-07-30          125.199997  \n",
       " 6  2021-08-02          135.649994  \n",
       " 7  2021-08-03          135.449997  \n",
       " 8  2021-08-04          137.350006  \n",
       " 9  2021-08-05          134.949997  \n",
       " 10 2021-08-06          132.500000  \n",
       " 11 2021-08-09          134.949997  \n",
       " 12 2021-08-10          139.300003  \n",
       " 13 2021-08-11          127.250000  \n",
       " 14 2021-08-12          125.000000  \n",
       " 15 2021-08-13          124.250000  \n",
       " 16 2021-08-16          125.849998  \n",
       " 17 2021-08-17          124.699997  \n",
       " 18 2021-08-18          133.550003  \n",
       " 19 2021-08-20          134.550003  \n",
       " 20 2021-08-23          132.600006  \n",
       " 21 2021-08-24          137.600006  \n",
       " 22 2021-08-25          149.750000  \n",
       " 23 2021-08-26          144.050003  \n",
       " 24 2021-08-27          140.050003  \n",
       " 25 2021-08-30          141.250000  \n",
       " 26 2021-08-31          141.600006  \n",
       " 27 2021-09-01          143.149994  \n",
       " 28 2021-09-02          144.100006  \n",
       " 29 2021-09-03          142.649994  \n",
       " 30 2021-09-06          142.050003  \n",
       " 31 2021-09-07          139.800003  \n",
       " 32 2021-09-08                 NaN  \n",
       " 33 2021-09-09                 NaN  \n",
       " 34 2021-09-13                 NaN  \n",
       " 35 2021-09-14                 NaN  \n",
       " 36 2021-09-15                 NaN  \n",
       " 37 2021-09-16                 NaN  \n",
       " 38 2021-09-17                 NaN  ,\n",
       " 139.9560357460993,\n",
       " array([[139.95603575],\n",
       "        [139.90358576],\n",
       "        [139.67131311],\n",
       "        [139.5289495 ],\n",
       "        [139.74624036],\n",
       "        [139.83615169],\n",
       "        [140.17332432]]),\n",
       " 139.83080006656965,\n",
       " 0.3358576405230451)"
      ]
     },
     "execution_count": 35,
     "metadata": {},
     "output_type": "execute_result"
    }
   ],
   "source": [
    "linear_reg(df)"
   ]
  },
  {
   "cell_type": "code",
   "execution_count": null,
   "id": "f61ec8cb",
   "metadata": {},
   "outputs": [],
   "source": []
  },
  {
   "cell_type": "code",
   "execution_count": null,
   "id": "b62ed06d",
   "metadata": {},
   "outputs": [],
   "source": []
  }
 ],
 "metadata": {
  "kernelspec": {
   "display_name": "Python 3",
   "language": "python",
   "name": "python3"
  },
  "language_info": {
   "codemirror_mode": {
    "name": "ipython",
    "version": 3
   },
   "file_extension": ".py",
   "mimetype": "text/x-python",
   "name": "python",
   "nbconvert_exporter": "python",
   "pygments_lexer": "ipython3",
   "version": "3.6.9"
  }
 },
 "nbformat": 4,
 "nbformat_minor": 5
}
